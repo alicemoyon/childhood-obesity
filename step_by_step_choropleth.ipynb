{
 "cells": [
  {
   "cell_type": "markdown",
   "metadata": {},
   "source": [
    "# Step by step guide to choropleth maps"
   ]
  },
  {
   "cell_type": "markdown",
   "metadata": {},
   "source": [
    "This is a guide to making Choropleth maps of increasing complexity to visualise geographical data."
   ]
  },
  {
   "cell_type": "code",
   "execution_count": null,
   "metadata": {},
   "outputs": [],
   "source": [
    "#from IPython.core.interactiveshell import InteractiveShell\n",
    "#InteractiveShell.ast_node_interactivity = \"all\"\n",
    "#import numpy as np\n",
    "import pandas as pd\n",
    "from matplotlib import pyplot as plt\n",
    "import geopandas as gpd\n",
    "import json\n",
    "import plotly.express as px"
   ]
  },
  {
   "cell_type": "markdown",
   "metadata": {},
   "source": [
    "The aim is to visualise children's obesity rates in London MSOAs (statistical areas). To view the full data analysis, please refer to the main notebook.\n",
    "\n",
    "Since MSOAs are the lowest level of granularity available in our data, we will use MSOA geographical files to create a Choropleth map. The shape files for London are available from https://data.london.gov.uk/dataset/statistical-gis-boundary-files-london."
   ]
  },
  {
   "cell_type": "markdown",
   "metadata": {},
   "source": [
    "## 1. Static geovisualisation using geopandas"
   ]
  },
  {
   "cell_type": "code",
   "execution_count": null,
   "metadata": {},
   "outputs": [],
   "source": [
    "# First, we need to read our data from a csv into a dataframe\n",
    "reception = pd.read_csv(\"reception_cleaned.csv\")"
   ]
  },
  {
   "cell_type": "code",
   "execution_count": null,
   "metadata": {},
   "outputs": [],
   "source": [
    "# convert the shape files into a geopandas df\n",
    "london_msoa_geodata = gpd.read_file(\"MSOA_2011_London_gen_MHW\") # folder containing the set of shapes files\n",
    "\n",
    "# Convert to the EPSG:4326 coordinate system (to match the coordinate system used by plotly later)\n",
    "#london_msoa_geodata['geometry'] = london_msoa_geodata['geometry'].to_crs(epsg=4326)\n",
    "london_msoa_geodata.head()"
   ]
  },
  {
   "cell_type": "code",
   "execution_count": null,
   "metadata": {},
   "outputs": [],
   "source": [
    "# This shows the basic map plotted with the geojson without any data attached\n",
    "london_msoa_geodata.plot()"
   ]
  },
  {
   "cell_type": "code",
   "execution_count": null,
   "metadata": {},
   "outputs": [],
   "source": [
    "# Merge the geodataframe and obesity rates dataframe together\n",
    "merged = london_msoa_geodata.set_index('MSOA11NM').join(reception.set_index('MSOA'))\n",
    "merged.head()"
   ]
  },
  {
   "cell_type": "code",
   "execution_count": null,
   "metadata": {},
   "outputs": [],
   "source": [
    "reception.columns"
   ]
  },
  {
   "cell_type": "code",
   "execution_count": null,
   "metadata": {},
   "outputs": [],
   "source": [
    "# set a variable that will call whatever column we want to visualise on the map\n",
    "variable = \"15_16to17_18\"\n",
    "# set the range for the choropleth\n",
    "vmin, vmax = reception['15_16to17_18'].min(), reception['15_16to17_18'].max()\n",
    "# create figure and axes for Matplotlib\n",
    "fig, ax = plt.subplots(1, figsize=(10, 6))\n",
    "# remove axis\n",
    "ax.axis(\"off\")\n",
    "# add a title\n",
    "ax.set_title(\"Obesity rate in Reception age children\", fontdict={'fontsize': '18', 'fontweight' : '3'})\n",
    "# create an annotation for the data source\n",
    "ax.annotate(s=\"Source: GSST\",xy=(0.1, .08),  xycoords='figure fraction', horizontalalignment='left', verticalalignment='top',\\\n",
    "            fontsize=12, color='#555555')\n",
    "# Create colorbar as a legend\n",
    "sm = plt.cm.ScalarMappable(cmap='Blues', norm=plt.Normalize(vmin=vmin, vmax=vmax))\n",
    "# empty array for the data range\n",
    "sm._A = []\n",
    "# add the colorbar to the figure\n",
    "cbar = fig.colorbar(sm)\n",
    "# create map\n",
    "merged.plot(column=variable, cmap='Blues', linewidth=0.8, ax=ax, edgecolor='0.8')\n"
   ]
  },
  {
   "cell_type": "markdown",
   "metadata": {},
   "source": [
    "## 2. Interactive visualisation with Plotly"
   ]
  },
  {
   "cell_type": "markdown",
   "metadata": {},
   "source": [
    "In a Mapbox choropleth map, each row of data_frame is represented by a colored region on a Mapbox map"
   ]
  },
  {
   "cell_type": "code",
   "execution_count": null,
   "metadata": {},
   "outputs": [],
   "source": [
    "# Plotly requires a base map and we will use the Mapbox API for that\n",
    "mapbox_api_key = \"pk.eyJ1IjoiYWxpY2Vtb3lvbiIsImEiOiJja2Juc240bG8weTFyMnhwb3VrbzU1OWk4In0.nx7urMH1n84mSzleqAcy6A\"\n",
    "px.set_mapbox_access_token(mapbox_api_key)"
   ]
  },
  {
   "cell_type": "code",
   "execution_count": null,
   "metadata": {},
   "outputs": [],
   "source": [
    "# convert shape files into geojson dataframe\n",
    "london_msoa_df = gpd.read_file(\"MSOA_2011_London_gen_MHW\") # folder containing the set of shapes files"
   ]
  },
  {
   "cell_type": "code",
   "execution_count": null,
   "metadata": {},
   "outputs": [],
   "source": [
    "# Convert coordinates system to match the coordinate system used by Plotly\n",
    "london_msoa_df = london_msoa_df.to_crs(epsg=4326)"
   ]
  },
  {
   "cell_type": "code",
   "execution_count": null,
   "metadata": {},
   "outputs": [],
   "source": [
    "type(london_msoa_df)"
   ]
  },
  {
   "cell_type": "code",
   "execution_count": null,
   "metadata": {},
   "outputs": [],
   "source": [
    "# turn geo data into json format as input to the choropleth\n",
    "london_msoa_json = json.loads(london_msoa_df.to_json())"
   ]
  },
  {
   "cell_type": "code",
   "execution_count": null,
   "metadata": {},
   "outputs": [],
   "source": [
    "print(reception['MSOA'])\n",
    "print(london_msoa_json[\"features\"][0][\"properties\"]['MSOA11NM'])"
   ]
  },
  {
   "cell_type": "markdown",
   "metadata": {},
   "source": [
    "One issue here is that our dataset contains data for all MSOAs in the UK, but our map is specific to London MSOAs. While this was no an issue when using geopandas & matplotlib, it will cause errors with Plotly. So we need to trim our dataset before proceeding further."
   ]
  },
  {
   "cell_type": "code",
   "execution_count": null,
   "metadata": {},
   "outputs": [],
   "source": [
    "print(len(london_msoa_json['features']))"
   ]
  },
  {
   "cell_type": "code",
   "execution_count": null,
   "metadata": {},
   "outputs": [],
   "source": [
    "msoas_included = []\n",
    "\n",
    "for i in range (0, len(london_msoa_json['features'])):\n",
    "    msoas_included.append(london_msoa_json[\"features\"][i][\"properties\"][\"MSOA11NM\"])\n",
    "    \n",
    "reception_london = reception[reception['MSOA'].isin(msoas_included)]"
   ]
  },
  {
   "cell_type": "code",
   "execution_count": null,
   "metadata": {},
   "outputs": [],
   "source": [
    "reception_london.shape"
   ]
  },
  {
   "cell_type": "code",
   "execution_count": null,
   "metadata": {},
   "outputs": [],
   "source": [
    "reception_london.tail()"
   ]
  },
  {
   "cell_type": "code",
   "execution_count": null,
   "metadata": {},
   "outputs": [],
   "source": [
    "# Generate a simple choropleth displaying data on hover of each region\n",
    "fig = px.choropleth_mapbox(reception_london,\n",
    "                           geojson=london_msoa_json,\n",
    "                           color='15_16to17_18',\n",
    "                           locations='MSOA',\n",
    "                           featureidkey=\"properties.MSOA11NM\",\n",
    "                           hover_data=[\"MSOA\",\"15_16to17_18\"],\n",
    "                           center={\"lat\": 51.509865, \"lon\": -0.118092}, \n",
    "                           mapbox_style=\"basic\", zoom=9)\n",
    "\n",
    "fig.update_layout(margin={\"r\":0,\"t\":0,\"l\":0,\"b\":0})\n",
    "fig.show()"
   ]
  },
  {
   "cell_type": "markdown",
   "metadata": {},
   "source": [
    "#### Making the color scale more meaningful & removing the white roads\n",
    "\n",
    "There are a few simple improvements we can make to the map:\n",
    "- A colorscale going from green to red would be more meaningful and would immediately highlight problem areas.\n",
    "- The white roads should be removed as they are distracting and do not match the MSOAs. This can be done by changing to a different style for the mapbox basemap.\n",
    "- A meaningful title for the color bar"
   ]
  },
  {
   "cell_type": "code",
   "execution_count": null,
   "metadata": {},
   "outputs": [],
   "source": [
    "# We'll use the national average as a tipping point between green and red for the colour scale\n",
    "reception_natnl_avg = reception['15_16to17_18'].mean()\n",
    "\n",
    "fig = px.choropleth_mapbox(reception_london,\n",
    "                           geojson=london_msoa_json,\n",
    "                           color='15_16to17_18', \n",
    "                           locations='MSOA',\n",
    "                           featureidkey=\"properties.MSOA11NM\",\n",
    "                           # adds diverging color scale\n",
    "                           color_continuous_scale=px.colors.diverging.RdYlGn_r,\n",
    "                           # add a tipping  point for colour divergence\n",
    "                           color_continuous_midpoint=reception_natnl_avg,\n",
    "                           hover_data=[\"MSOA\",\"15_16to17_18\"],\n",
    "                           title=\"MSOA distribution of obesity rates in London\",\n",
    "                           center={\"lat\": 51.509865, \"lon\": -0.118092},\n",
    "                           # similar map style to before, but without visible roads\n",
    "                           mapbox_style=\"outdoors\",\n",
    "                           zoom=9)\n",
    "\n",
    "# Change title of color bar and add % suffix to values\n",
    "fig.update_layout(coloraxis_colorbar=dict(\n",
    "    title=\"obesity rate\",\n",
    "    yanchor=\"top\", y=1, ticksuffix=\"%\",\n",
    "))\n",
    "\n",
    "fig.update_layout(margin={\"r\":0,\"t\":0,\"l\":0,\"b\":0})\n",
    "fig.show()"
   ]
  },
  {
   "cell_type": "markdown",
   "metadata": {},
   "source": [
    "#### Showing two datasets on the same map with dropdown selection\n",
    "\n",
    "Since we have two datasets representing the geographical data for two different age groups, it would be valuable to display both sets of data on the same map, using a dropdown for user selection.\n",
    "\n",
    "In order to do this, we need to go further than Plotly Express and use Plotly's graph_objects for more customisation."
   ]
  },
  {
   "cell_type": "code",
   "execution_count": null,
   "metadata": {},
   "outputs": [],
   "source": [
    "import plotly.graph_objects as go"
   ]
  },
  {
   "cell_type": "code",
   "execution_count": null,
   "metadata": {},
   "outputs": [],
   "source": [
    "year6 = pd.read_csv(\"year6_cleaned.csv\")\n",
    "\n",
    "# Create the year6 dataset for London only\n",
    "y6_london = year6[year6['MSOA'].isin(msoas_included)]\n",
    "y6_london.shape"
   ]
  },
  {
   "cell_type": "code",
   "execution_count": null,
   "metadata": {},
   "outputs": [],
   "source": [
    "colorbar = dict(title={\"text\": \"obesity rate\"}, yanchor=\"top\", y=1, ticks=\"outside\", ticksuffix=\"%\")\n",
    "\n",
    "# This is a list of dictionaries that each represents a separate Choroplethmapbox object to be layered on the map\n",
    "# The available properties for Choroplethmapbox objects can be found here https://plotly.com/python/reference/#choroplethmapbox\n",
    "data = [\n",
    "    dict(type='choroplethmapbox',\n",
    "         name='Reception',\n",
    "         geojson=london_msoa_json,\n",
    "         locations=reception_london['MSOA'],\n",
    "         z=reception_london['15_16to17_18'],\n",
    "         zmin=0, zmax=reception_london['15_16to17_18'].max(),\n",
    "         featureidkey=\"properties.MSOA11NM\",\n",
    "         # determines what appears on hover. <extra></extra> prevents the second box from appearing\n",
    "         hovertemplate=\"%{location}: %{z}%<extra></extra>\",\n",
    "         colorbar=colorbar,\n",
    "         autocolorscale=False,\n",
    "         colorscale=\"RdYlGn\",\n",
    "         reversescale=True,\n",
    "         zmid=reception_natnl_avg,\n",
    "        visible=True),\n",
    "    dict(type='choroplethmapbox',\n",
    "         name='Year 6',\n",
    "         geojson=london_msoa_json,\n",
    "         locations=y6_london['MSOA'],\n",
    "         z=y6_london['15_16to17_18'],\n",
    "         zmin=0, zmax=y6_london['15_16to17_18'].max(),\n",
    "         featureidkey=\"properties.MSOA11NM\",\n",
    "         hovertemplate=\"%{location}: %{z}%<extra></extra>\",\n",
    "         colorbar=colorbar,\n",
    "         autocolorscale=False,\n",
    "         colorscale=\"RdYlGn\",\n",
    "         reversescale=True,\n",
    "         zmid=y6_london['15_16to17_18'].mean(),\n",
    "         # set to false so that only the Reception data is shown initially, before selection with the dropdown\n",
    "        visible=False)\n",
    "]"
   ]
  },
  {
   "cell_type": "code",
   "execution_count": null,
   "metadata": {},
   "outputs": [],
   "source": [
    "# Creates the layout object. Full list of properties available can be found here:\n",
    "# https://plotly.com/python-api-reference/generated/plotly.graph_objects.Layout.html#plotly.graph_objects.Layout\n",
    "\n",
    "layout = go.Layout(\n",
    "    title_text = 'Children obesity rates in London MSOAs',\n",
    "    font = dict(family='Roboto'),\n",
    "    # top, bottom, left and right margins\n",
    "    margin = dict(t = 0, b = 0, l = 0, r = 0),\n",
    "    mapbox = dict(\n",
    "        # here you need the token from Mapbox\n",
    "        accesstoken = mapbox_api_key,\n",
    "        # where we want the map to be centered\n",
    "        center={\"lat\": 51.509865, \"lon\": -0.118092},\n",
    "        # default level of zoom\n",
    "        zoom = 9,\n",
    "        # default map style\n",
    "        style = 'outdoors'\n",
    "    ),\n",
    ")\n",
    "\n",
    "# each dropdown menu is defined as a dictionary within the list. All available properties for updatemenus objects\n",
    "# can be found here https://plotly.com/python/reference/#layout-updatemenus\n",
    "\n",
    "layout.updatemenus = list([\n",
    "    dict(buttons=list([\n",
    "        dict(label='Reception', method='update', args=[{'visible': [True, False]}]),\n",
    "        dict(label='Year 6', method='update', args=[{'visible': [False, True]}])\n",
    "    ]),\n",
    "         # placement of dropdown menu on the figure\n",
    "         direction='down', x = -0.05, xanchor = 'left', y = 1, yanchor = 'top',\n",
    "         showactive=True\n",
    "    )\n",
    "])\n"
   ]
  },
  {
   "cell_type": "code",
   "execution_count": null,
   "metadata": {},
   "outputs": [],
   "source": [
    "interactive_fig = go.Figure(data=data, layout=layout)\n",
    "interactive_fig.layout.title.text = \"Children obesity rates in London MSOAs\"\n",
    "interactive_fig.show()"
   ]
  },
  {
   "cell_type": "markdown",
   "metadata": {},
   "source": [
    "NB: The range you decide for zmin and zmax can influence how your data is perceived. e.g. if we used the minimum rate observed as zmin, instead of 0, there would be more MSOAs with a green shade and the problem would appear less widespread. While it initially looks like a detail, it can have a big impact."
   ]
  },
  {
   "cell_type": "markdown",
   "metadata": {},
   "source": [
    "#### Add sliders to show evolution over time periods\n",
    "\n",
    "The next step would be to add sliders to visualise the evolution of the data over time. Unfirtunately, combining a dropdown with a slider is not possible with Plotly within the notebook (at least without using widgets). \n",
    "\n",
    "I will look into implementing this with Javascript for a blog post but in the meantime, we can still remove the dropdown and create a choropleth with a slider for one of the age groups only."
   ]
  },
  {
   "cell_type": "code",
   "execution_count": null,
   "metadata": {},
   "outputs": [],
   "source": [
    "reception.columns.values"
   ]
  },
  {
   "cell_type": "code",
   "execution_count": null,
   "metadata": {},
   "outputs": [],
   "source": [
    "# First, we need a Choropleth object (trace) for each slider step\n",
    "\n",
    "data = []\n",
    "\n",
    "time_periods = reception.columns.values[3:11]\n",
    "\n",
    "# Reception traces\n",
    "for time_period in time_periods:\n",
    "    data.append(go.Choroplethmapbox(\n",
    "        name=time_period,\n",
    "        geojson=london_msoa_json,\n",
    "        locations=reception_london['MSOA'],\n",
    "        z=reception_london[time_period],\n",
    "        zmin=0, zmax=reception_london[time_period].max(),\n",
    "        featureidkey=\"properties.MSOA11NM\",\n",
    "        # determines what appears on hover. <extra></extra> prevents the second box from appearing\n",
    "        hovertemplate=\"%{location}: %{z}%<extra></extra>\",\n",
    "        colorbar=colorbar,\n",
    "        autocolorscale=False,\n",
    "        colorscale=\"RdYlGn\",\n",
    "        reversescale=True,\n",
    "        zmid=reception_natnl_avg,\n",
    "        visible=False))\n",
    "    \n",
    "# We need to have at least one visible trace as default\n",
    "data[0].visible = True"
   ]
  },
  {
   "cell_type": "code",
   "execution_count": null,
   "metadata": {},
   "outputs": [],
   "source": [
    "# We also need a fresh layout without a dropdown\n",
    "layout = go.Layout(\n",
    "    title_text = 'Children obesity rates in London MSOAs',\n",
    "    font = dict(family='Roboto'),\n",
    "    # top, bottom, left and right margins\n",
    "    margin = dict(t = 0, b = 0, l = 0, r = 0),\n",
    "    mapbox = dict(\n",
    "        # here you need the token from Mapbox\n",
    "        accesstoken = mapbox_api_key,\n",
    "        # where we want the map to be centered\n",
    "        center={\"lat\": 51.509865, \"lon\": -0.118092},\n",
    "        # default level of zoom\n",
    "        zoom = 9,\n",
    "        # default map style\n",
    "        style = 'outdoors'\n",
    "    ),\n",
    ")\n",
    "\n",
    "# Now we create the steps for the slider\n",
    "steps = []\n",
    "for i in range(len(data)):\n",
    "    step = dict(\n",
    "        method=\"update\",\n",
    "        args=[{\"visible\": [False] * len(data)}],\n",
    "        label=data[i]['name']\n",
    "    )\n",
    "    step[\"args\"][0][\"visible\"][i] = True\n",
    "    steps.append(step)\n",
    "    \n",
    "# And we create the slider itself\n",
    "layout.sliders = list([\n",
    "    dict(steps=steps)\n",
    "])"
   ]
  },
  {
   "cell_type": "code",
   "execution_count": null,
   "metadata": {},
   "outputs": [],
   "source": [
    "slider_fig = go.Figure(data=data, layout=layout)\n",
    "slider_fig.show()"
   ]
  },
  {
   "cell_type": "code",
   "execution_count": null,
   "metadata": {},
   "outputs": [],
   "source": []
  }
 ],
 "metadata": {
  "kernelspec": {
   "display_name": "Python 3",
   "language": "python",
   "name": "python3"
  },
  "language_info": {
   "codemirror_mode": {
    "name": "ipython",
    "version": 3
   },
   "file_extension": ".py",
   "mimetype": "text/x-python",
   "name": "python",
   "nbconvert_exporter": "python",
   "pygments_lexer": "ipython3",
   "version": "3.8.2"
  }
 },
 "nbformat": 4,
 "nbformat_minor": 2
}
